{
 "cells": [
  {
   "cell_type": "code",
   "execution_count": 1,
   "id": "1da8f693",
   "metadata": {},
   "outputs": [],
   "source": [
    "import pandas as pd\n",
    "import numpy as np\n",
    "from pathlib import Path\n",
    "\n",
    "school_data_to_load = pd.read_csv(\"Resources/schools_complete.csv\")\n",
    "students_data_to_load = pd.read_csv(\"Resources/students_complete.csv\")"
   ]
  },
  {
   "cell_type": "code",
   "execution_count": 4,
   "id": "4d2a9776",
   "metadata": {},
   "outputs": [],
   "source": [
    "total_schools = school_data_to_load ['school_name'].nunique()\n",
    "school_type = school_data_to_load ['type'].nunique()\n",
    "total_students = students_data_to_load['student_name'].count()\n",
    "total_budget = school_data_to_load['budget'].sum()\n",
    "average_math_score = students_data_to_load['math_score'].mean()\n",
    "average_reading_score = students_data_to_load['reading_score'].mean()\n",
    "students_data_to_load['math_passing'] = np.where(students_data_to_load['math_score'] >= 70, 1, 0)\n",
    "percent_passing_math = (students_data_to_load['math_passing'].mean()) * 100\n",
    "students_data_to_load['reading_passing'] = np.where(students_data_to_load['reading_score'] >= 70, 1, 0)\n",
    "percent_passing_reading = (students_data_to_load['reading_passing'].mean()) * 100\n",
    "students_data_to_load['overall_passing'] = np.where((students_data_to_load['math_score'] >= 70) & (students_data_to_load['reading_score'] >= 70), 1, 0)\n",
    "percent_overall_passing = (students_data_to_load['overall_passing'].mean()) * 100\n",
    "\n",
    "\n",
    "\n",
    "\n",
    "\n",
    "\n",
    "\n",
    "\n",
    "\n",
    "\n",
    "\n",
    "\n"
   ]
  },
  {
   "cell_type": "code",
   "execution_count": 11,
   "id": "3c52b281",
   "metadata": {},
   "outputs": [],
   "source": [
    "summary_df = pd.DataFrame({\n",
    "    'Total Schools': [total_schools],\n",
    "    'Total Students': [total_students],\n",
    "    'Total Budget': [total_budget],\n",
    "    'Average Math Score': [average_math_score],\n",
    "    'Average Reading Score': [average_reading_score],\n",
    "    '% Passing Math': [percent_passing_math],\n",
    "    '% Passing Reading': [percent_passing_reading],\n",
    "    '% Overall Passing': [percent_overall_passing]\n",
    "    \n",
    "})\n",
    "summary_df['Per Student Budget'] = summary_df['Total Budget'] / summary_df['Total Students']\n"
   ]
  },
  {
   "cell_type": "code",
   "execution_count": 6,
   "id": "03da18a0",
   "metadata": {},
   "outputs": [],
   "source": [
    "top_schools = summary_df.sort_values('% Overall Passing', ascending=False).head(5)\n"
   ]
  },
  {
   "cell_type": "code",
   "execution_count": 7,
   "id": "f0416228",
   "metadata": {},
   "outputs": [],
   "source": [
    "bottom_schools = summary_df.sort_values('% Overall Passing').head(5)\n"
   ]
  },
  {
   "cell_type": "code",
   "execution_count": 11,
   "id": "0eed30a3",
   "metadata": {},
   "outputs": [],
   "source": [
    "math_scores_by_grade = students_data_to_load.pivot_table(index='school_name', columns='grade', values='math_score')\n"
   ]
  },
  {
   "cell_type": "code",
   "execution_count": 12,
   "id": "0f0ecd3f",
   "metadata": {},
   "outputs": [],
   "source": [
    "reading_scores_by_grade = students_data_to_load.pivot_table(index='school_name', columns='grade', values='reading_score')\n"
   ]
  },
  {
   "cell_type": "code",
   "execution_count": 21,
   "id": "5f78014c",
   "metadata": {},
   "outputs": [],
   "source": [
    "spending_bins = [0, 585, 630, 645, 680]\n",
    "labels = [\"<$585\", \"$585-630\", \"$630-645\", \"$645-680\"]\n",
    "\n",
    "summary_df['Spending Ranges (Per Student)'] = pd.cut(summary_df['Per Student Budget'], spending_bins, labels=labels)\n"
   ]
  },
  {
   "cell_type": "code",
   "execution_count": 22,
   "id": "4441254f",
   "metadata": {},
   "outputs": [
    {
     "name": "stdout",
     "output_type": "stream",
     "text": [
      "Index(['Total Schools', 'Total Students', 'Total Budget', 'Average Math Score',\n",
      "       'Average Reading Score', '% Passing Math', '% Passing Reading',\n",
      "       '% Overall Passing', 'Per Student Budget',\n",
      "       'Spending Ranges (Per Student)'],\n",
      "      dtype='object')\n"
     ]
    },
    {
     "data": {
      "text/html": [
       "<div>\n",
       "<style scoped>\n",
       "    .dataframe tbody tr th:only-of-type {\n",
       "        vertical-align: middle;\n",
       "    }\n",
       "\n",
       "    .dataframe tbody tr th {\n",
       "        vertical-align: top;\n",
       "    }\n",
       "\n",
       "    .dataframe thead th {\n",
       "        text-align: right;\n",
       "    }\n",
       "</style>\n",
       "<table border=\"1\" class=\"dataframe\">\n",
       "  <thead>\n",
       "    <tr style=\"text-align: right;\">\n",
       "      <th></th>\n",
       "      <th>Total Schools</th>\n",
       "      <th>Total Students</th>\n",
       "      <th>Total Budget</th>\n",
       "      <th>Average Math Score</th>\n",
       "      <th>Average Reading Score</th>\n",
       "      <th>% Passing Math</th>\n",
       "      <th>% Passing Reading</th>\n",
       "      <th>% Overall Passing</th>\n",
       "      <th>Per Student Budget</th>\n",
       "      <th>Spending Ranges (Per Student)</th>\n",
       "    </tr>\n",
       "  </thead>\n",
       "  <tbody>\n",
       "    <tr>\n",
       "      <th>0</th>\n",
       "      <td>15</td>\n",
       "      <td>39170</td>\n",
       "      <td>24649428</td>\n",
       "      <td>78.985371</td>\n",
       "      <td>81.87784</td>\n",
       "      <td>74.980853</td>\n",
       "      <td>85.805463</td>\n",
       "      <td>65.172326</td>\n",
       "      <td>629.293541</td>\n",
       "      <td>$585-630</td>\n",
       "    </tr>\n",
       "  </tbody>\n",
       "</table>\n",
       "</div>"
      ],
      "text/plain": [
       "   Total Schools  Total Students  Total Budget  Average Math Score  \\\n",
       "0             15           39170      24649428           78.985371   \n",
       "\n",
       "   Average Reading Score  % Passing Math  % Passing Reading  \\\n",
       "0               81.87784       74.980853          85.805463   \n",
       "\n",
       "   % Overall Passing  Per Student Budget Spending Ranges (Per Student)  \n",
       "0          65.172326          629.293541                      $585-630  "
      ]
     },
     "metadata": {},
     "output_type": "display_data"
    }
   ],
   "source": [
    "print(summary_df.columns)\n",
    "display(summary_df)\n"
   ]
  },
  {
   "cell_type": "code",
   "execution_count": 23,
   "id": "4b96e1b2",
   "metadata": {},
   "outputs": [],
   "source": [
    "spending_math_scores = summary_df.groupby([\"Spending Ranges (Per Student)\"])[\"Average Math Score\"].mean()\n",
    "spending_reading_scores = summary_df.groupby([\"Spending Ranges (Per Student)\"])[\"Average Reading Score\"].mean()\n",
    "spending_passing_math = summary_df.groupby([\"Spending Ranges (Per Student)\"])[\"% Passing Math\"].mean()\n",
    "spending_passing_reading = summary_df.groupby([\"Spending Ranges (Per Student)\"])[\"% Passing Reading\"].mean()\n",
    "overall_passing_spending = summary_df.groupby([\"Spending Ranges (Per Student)\"])[\"% Overall Passing\"].mean()\n"
   ]
  },
  {
   "cell_type": "code",
   "execution_count": 24,
   "id": "5a4e7b10",
   "metadata": {},
   "outputs": [],
   "source": [
    "spending_summary = pd.DataFrame({\n",
    "    \"Average Math Score\": spending_math_scores,\n",
    "    \"Average Reading Score\": spending_reading_scores,\n",
    "    \"% Passing Math\": spending_passing_math,\n",
    "    \"% Passing Reading\": spending_passing_reading,\n",
    "    \"% Overall Passing\": overall_passing_spending\n",
    "})\n"
   ]
  },
  {
   "cell_type": "code",
   "execution_count": 25,
   "id": "b6a1f786",
   "metadata": {},
   "outputs": [
    {
     "data": {
      "text/html": [
       "<div>\n",
       "<style scoped>\n",
       "    .dataframe tbody tr th:only-of-type {\n",
       "        vertical-align: middle;\n",
       "    }\n",
       "\n",
       "    .dataframe tbody tr th {\n",
       "        vertical-align: top;\n",
       "    }\n",
       "\n",
       "    .dataframe thead th {\n",
       "        text-align: right;\n",
       "    }\n",
       "</style>\n",
       "<table border=\"1\" class=\"dataframe\">\n",
       "  <thead>\n",
       "    <tr style=\"text-align: right;\">\n",
       "      <th></th>\n",
       "      <th>Average Math Score</th>\n",
       "      <th>Average Reading Score</th>\n",
       "      <th>% Passing Math</th>\n",
       "      <th>% Passing Reading</th>\n",
       "      <th>% Overall Passing</th>\n",
       "    </tr>\n",
       "    <tr>\n",
       "      <th>Spending Ranges (Per Student)</th>\n",
       "      <th></th>\n",
       "      <th></th>\n",
       "      <th></th>\n",
       "      <th></th>\n",
       "      <th></th>\n",
       "    </tr>\n",
       "  </thead>\n",
       "  <tbody>\n",
       "    <tr>\n",
       "      <th>&lt;$585</th>\n",
       "      <td>NaN</td>\n",
       "      <td>NaN</td>\n",
       "      <td>NaN</td>\n",
       "      <td>NaN</td>\n",
       "      <td>NaN</td>\n",
       "    </tr>\n",
       "    <tr>\n",
       "      <th>$585-630</th>\n",
       "      <td>78.985371</td>\n",
       "      <td>81.87784</td>\n",
       "      <td>74.980853</td>\n",
       "      <td>85.805463</td>\n",
       "      <td>65.172326</td>\n",
       "    </tr>\n",
       "    <tr>\n",
       "      <th>$630-645</th>\n",
       "      <td>NaN</td>\n",
       "      <td>NaN</td>\n",
       "      <td>NaN</td>\n",
       "      <td>NaN</td>\n",
       "      <td>NaN</td>\n",
       "    </tr>\n",
       "    <tr>\n",
       "      <th>$645-680</th>\n",
       "      <td>NaN</td>\n",
       "      <td>NaN</td>\n",
       "      <td>NaN</td>\n",
       "      <td>NaN</td>\n",
       "      <td>NaN</td>\n",
       "    </tr>\n",
       "  </tbody>\n",
       "</table>\n",
       "</div>"
      ],
      "text/plain": [
       "                               Average Math Score  Average Reading Score  \\\n",
       "Spending Ranges (Per Student)                                              \n",
       "<$585                                         NaN                    NaN   \n",
       "$585-630                                78.985371               81.87784   \n",
       "$630-645                                      NaN                    NaN   \n",
       "$645-680                                      NaN                    NaN   \n",
       "\n",
       "                               % Passing Math  % Passing Reading  \\\n",
       "Spending Ranges (Per Student)                                      \n",
       "<$585                                     NaN                NaN   \n",
       "$585-630                            74.980853          85.805463   \n",
       "$630-645                                  NaN                NaN   \n",
       "$645-680                                  NaN                NaN   \n",
       "\n",
       "                               % Overall Passing  \n",
       "Spending Ranges (Per Student)                     \n",
       "<$585                                        NaN  \n",
       "$585-630                               65.172326  \n",
       "$630-645                                     NaN  \n",
       "$645-680                                     NaN  "
      ]
     },
     "metadata": {},
     "output_type": "display_data"
    }
   ],
   "source": [
    "display(spending_summary)"
   ]
  },
  {
   "cell_type": "code",
   "execution_count": 27,
   "id": "41e1fc15",
   "metadata": {},
   "outputs": [
    {
     "data": {
      "text/plain": [
       "Average Math Score       3\n",
       "Average Reading Score    3\n",
       "% Passing Math           3\n",
       "% Passing Reading        3\n",
       "% Overall Passing        3\n",
       "dtype: int64"
      ]
     },
     "execution_count": 27,
     "metadata": {},
     "output_type": "execute_result"
    }
   ],
   "source": [
    "spending_summary.isnull().sum()"
   ]
  },
  {
   "cell_type": "code",
   "execution_count": null,
   "id": "2f964ec4",
   "metadata": {},
   "outputs": [],
   "source": [
    "size_bins = [0, 1000, 2000, 5000]\n",
    "labels = [\"Small (<1000)\", \"Medium (1000-2000)\", \"Large (2000-5000)\"]\n",
    "\n",
    "school_summary_df['School Size'] = pd.cut(school_summary_df['Total Students'], size_bins, labels=labels)\n"
   ]
  }
 ],
 "metadata": {
  "kernelspec": {
   "display_name": "Python 3 (ipykernel)",
   "language": "python",
   "name": "python3"
  },
  "language_info": {
   "codemirror_mode": {
    "name": "ipython",
    "version": 3
   },
   "file_extension": ".py",
   "mimetype": "text/x-python",
   "name": "python",
   "nbconvert_exporter": "python",
   "pygments_lexer": "ipython3",
   "version": "3.10.9"
  }
 },
 "nbformat": 4,
 "nbformat_minor": 5
}
